{
 "cells": [
  {
   "cell_type": "markdown",
   "metadata": {},
   "source": [
    "# Gene comparison between FPKM and DGE"
   ]
  },
  {
   "cell_type": "code",
   "execution_count": 1,
   "metadata": {},
   "outputs": [],
   "source": [
    "import math\n",
    "import pandas as pd"
   ]
  },
  {
   "cell_type": "code",
   "execution_count": 2,
   "metadata": {},
   "outputs": [],
   "source": [
    "# Init\n",
    "minLogTPM = math.log2(2)"
   ]
  },
  {
   "cell_type": "code",
   "execution_count": 3,
   "metadata": {},
   "outputs": [],
   "source": [
    "# Set comparison function\n",
    "def compare_a_and_b(lA, lB):\n",
    "    a = set(lA)\n",
    "    b = set(lB)\n",
    "    return {\n",
    "        'a': len(a),\n",
    "        'b': len(b),\n",
    "        'a&b': len(a.intersection(b)),\n",
    "        'a-b': len(a.difference(b)),\n",
    "        'b-a': len(b.difference(a)),\n",
    "        'a|b': len(a.union(b))\n",
    "    }"
   ]
  },
  {
   "cell_type": "markdown",
   "metadata": {},
   "source": [
    "## Homo sapiens"
   ]
  },
  {
   "cell_type": "code",
   "execution_count": 4,
   "metadata": {},
   "outputs": [],
   "source": [
    "# Load FPKM and DGE tables.\n",
    "df_HS_FPKM = pd.read_csv(\"../2-core_genes/results/HS-FPKM_genes.csv.gz\", index_col='id_gene', usecols=['id_string', 'id_gene', 'gene', 'FPKM', 'TPM', 'Spermatocytes', 'biotype'])\n",
    "# Selects only FPKM with TPM >= 1 and from Spermatocytes\n",
    "df_HS_FPKM = df_HS_FPKM.loc[((df_HS_FPKM['TPM'] >= minLogTPM) & (df_HS_FPKM['Spermatocytes'] == True)), :]\n",
    "df_HS_DGE = pd.read_csv(\"../2-core_genes/results/HS-DE_genes.csv.gz\", index_col='id_gene', usecols=['id_string', 'id_gene', 'gene', 'Cyte_vs_Gonia', 'Tid_vs_Cyte'])\n",
    "# Adds meiotic entry or exit information\n",
    "df_HS_FPKM['meiotic-entry'] = df_HS_DGE['Cyte_vs_Gonia']\n",
    "df_HS_FPKM['meiotic-exit'] = df_HS_DGE['Tid_vs_Cyte']"
   ]
  },
  {
   "cell_type": "code",
   "execution_count": 5,
   "metadata": {},
   "outputs": [
    {
     "name": "stdout",
     "output_type": "stream",
     "text": [
      "Comparison: HS -> FPKM(TPM >= 1) with DGE()\n",
      "FPKM: 19,623\n",
      "DGE: 16,527\n",
      "FPKM & DGE: 13,674 (60.84%)\n",
      "FPKM - DGE: 5,949 (26.47%)\n",
      "DGE - FPKM: 2,853 (12.69%)\n"
     ]
    }
   ],
   "source": [
    "print(\"Comparison: HS -> FPKM(TPM >= 1) with DGE()\")\n",
    "r = compare_a_and_b(\n",
    "    df_HS_FPKM.index.tolist(),\n",
    "    df_HS_DGE.index.tolist()\n",
    ")\n",
    "print(\"FPKM: {:,d}\".format(r['a']))\n",
    "print(\"DGE: {:,d}\".format(r['b']))\n",
    "print(\"FPKM & DGE: {:,d} ({:.2%})\".format(r['a&b'], r['a&b']/r['a|b']))\n",
    "print(\"FPKM - DGE: {:,d} ({:.2%})\".format(r['a-b'], r['a-b']/r['a|b']))\n",
    "print(\"DGE - FPKM: {:,d} ({:.2%})\".format(r['b-a'], r['b-a']/r['a|b']))"
   ]
  },
  {
   "cell_type": "code",
   "execution_count": 6,
   "metadata": {},
   "outputs": [
    {
     "name": "stdout",
     "output_type": "stream",
     "text": [
      "Comparison: HS -> FPKM(meiotic-entry) with FPKM(meiotic-exit)\n",
      "Entry: 13,412\n",
      "Exit: 12,331\n",
      "Entry & Exit: 12,069 (88.26%)\n",
      "Entry - Exit: 1,343 (9.82%)\n",
      "Exit - Entry: 262 (1.92%)\n"
     ]
    }
   ],
   "source": [
    "print(\"Comparison: HS -> FPKM(meiotic-entry) with FPKM(meiotic-exit)\")\n",
    "r = compare_a_and_b(\n",
    "    df_HS_FPKM.loc[df_HS_FPKM['meiotic-entry'] == True, :].index.tolist(),\n",
    "    df_HS_FPKM.loc[df_HS_FPKM['meiotic-exit'] == True, :].index.tolist()\n",
    ")\n",
    "print(\"Entry: {:,d}\".format(r['a']))\n",
    "print(\"Exit: {:,d}\".format(r['b']))\n",
    "print(\"Entry & Exit: {:,d} ({:.2%})\".format(r['a&b'], r['a&b']/r['a|b']))\n",
    "print(\"Entry - Exit: {:,d} ({:.2%})\".format(r['a-b'], r['a-b']/r['a|b']))\n",
    "print(\"Exit - Entry: {:,d} ({:.2%})\".format(r['b-a'], r['b-a']/r['a|b']))"
   ]
  },
  {
   "cell_type": "markdown",
   "metadata": {},
   "source": [
    "# Mus musculus"
   ]
  },
  {
   "cell_type": "code",
   "execution_count": 7,
   "metadata": {},
   "outputs": [],
   "source": [
    "# Load FPKM and DGE tables.\n",
    "df_MM_FPKM = pd.read_csv(\"../2-core_genes/results/MM-FPKM_genes.csv.gz\", index_col='id_gene', usecols=['id_string', 'id_gene', 'gene', 'FPKM', 'TPM', 'Spermatocytes', 'biotype'])\n",
    "# Selects only FPKM with TPM >= 1 and from Spermatocytes\n",
    "df_MM_FPKM = df_MM_FPKM.loc[((df_MM_FPKM['TPM'] >= minLogTPM) & (df_MM_FPKM['Spermatocytes'] == True)), :]\n",
    "df_MM_DGE = pd.read_csv(\"../2-core_genes/results/MM-DE_genes.csv.gz\", index_col='id_gene', usecols=['id_string', 'id_gene', 'gene', 'Cyte_vs_Gonia', 'Tid_vs_Cyte'])\n",
    "# Adds meiotic entry or exit information\n",
    "df_MM_FPKM['meiotic-entry'] = df_MM_DGE['Cyte_vs_Gonia']\n",
    "df_MM_FPKM['meiotic-exit'] = df_MM_DGE['Tid_vs_Cyte']"
   ]
  },
  {
   "cell_type": "code",
   "execution_count": 8,
   "metadata": {},
   "outputs": [
    {
     "name": "stdout",
     "output_type": "stream",
     "text": [
      "Comparison: MM -> FPKM(TPM >= 1) with DGE()\n",
      "FPKM: 16,505\n",
      "DGE: 14,958\n",
      "FPKM & DGE: 13,287 (73.10%)\n",
      "FPKM - DGE: 3,218 (17.70%)\n",
      "DGE - FPKM: 1,671 (9.19%)\n"
     ]
    }
   ],
   "source": [
    "print(\"Comparison: MM -> FPKM(TPM >= 1) with DGE()\")\n",
    "r = compare_a_and_b(\n",
    "    df_MM_FPKM.index.tolist(),\n",
    "    df_MM_DGE.index.tolist()\n",
    ")\n",
    "print(\"FPKM: {:,d}\".format(r['a']))\n",
    "print(\"DGE: {:,d}\".format(r['b']))\n",
    "print(\"FPKM & DGE: {:,d} ({:.2%})\".format(r['a&b'], r['a&b']/r['a|b']))\n",
    "print(\"FPKM - DGE: {:,d} ({:.2%})\".format(r['a-b'], r['a-b']/r['a|b']))\n",
    "print(\"DGE - FPKM: {:,d} ({:.2%})\".format(r['b-a'], r['b-a']/r['a|b']))"
   ]
  },
  {
   "cell_type": "code",
   "execution_count": 9,
   "metadata": {},
   "outputs": [
    {
     "name": "stdout",
     "output_type": "stream",
     "text": [
      "Comparison: MM -> FPKM(meiotic-entry) with FPKM(meiotic-exit)\n",
      "Entry: 10,417\n",
      "Exit: 12,801\n",
      "Entry & Exit: 9,931 (74.74%)\n",
      "Entry - Exit: 486 (3.66%)\n",
      "Exit - Entry: 2,870 (21.60%)\n"
     ]
    }
   ],
   "source": [
    "print(\"Comparison: MM -> FPKM(meiotic-entry) with FPKM(meiotic-exit)\")\n",
    "r = compare_a_and_b(\n",
    "    df_MM_FPKM.loc[df_MM_FPKM['meiotic-entry'] == True, :].index.tolist(),\n",
    "    df_MM_FPKM.loc[df_MM_FPKM['meiotic-exit'] == True, :].index.tolist()\n",
    ")\n",
    "print(\"Entry: {:,d}\".format(r['a']))\n",
    "print(\"Exit: {:,d}\".format(r['b']))\n",
    "print(\"Entry & Exit: {:,d} ({:.2%})\".format(r['a&b'], r['a&b']/r['a|b']))\n",
    "print(\"Entry - Exit: {:,d} ({:.2%})\".format(r['a-b'], r['a-b']/r['a|b']))\n",
    "print(\"Exit - Entry: {:,d} ({:.2%})\".format(r['b-a'], r['b-a']/r['a|b']))"
   ]
  },
  {
   "cell_type": "markdown",
   "metadata": {},
   "source": [
    "# Drosophila Melanogaster"
   ]
  },
  {
   "cell_type": "code",
   "execution_count": 10,
   "metadata": {},
   "outputs": [],
   "source": [
    "# Load FPKM and DGE tables.\n",
    "df_DM_FPKM = pd.read_csv(\"../2-core_genes/results/DM-FPKM_genes.csv.gz\", index_col='id_gene', usecols=['id_string', 'id_gene', 'gene', 'FPKM', 'TPM', 'Middle', 'biotype'])\n",
    "# Selects only FPKM with TPM >= 1 and from Spermatocytes\n",
    "df_DM_FPKM = df_DM_FPKM.loc[((df_DM_FPKM['TPM'] >= minLogTPM) & (df_DM_FPKM['Middle'] == True)), :]\n",
    "df_DM_DGE = pd.read_csv(\"../2-core_genes/results/DM-DE_genes.csv.gz\", index_col='id_gene', usecols=['id_string', 'id_gene', 'gene', 'Middle_vs_Apical', 'Basal_vs_Middle'])\n",
    "# Adds meiotic entry or exit information\n",
    "df_DM_FPKM['meiotic-entry'] = df_DM_DGE['Middle_vs_Apical']\n",
    "df_DM_FPKM['meiotic-exit'] = df_DM_DGE['Basal_vs_Middle']"
   ]
  },
  {
   "cell_type": "code",
   "execution_count": 11,
   "metadata": {},
   "outputs": [
    {
     "name": "stdout",
     "output_type": "stream",
     "text": [
      "Comparison: DM -> FPKM(TPM >= 1) with DGE()\n",
      "FPKM: 10,348\n",
      "DGE: 11,349\n",
      "FPKM & DGE: 9,637 (79.91%)\n",
      "FPKM - DGE: 711 (5.90%)\n",
      "DGE - FPKM: 1,712 (14.20%)\n"
     ]
    }
   ],
   "source": [
    "print(\"Comparison: DM -> FPKM(TPM >= 1) with DGE()\")\n",
    "r = compare_a_and_b(\n",
    "    df_DM_FPKM.index.tolist(),\n",
    "    df_DM_DGE.index.tolist()\n",
    ")\n",
    "print(\"FPKM: {:,d}\".format(r['a']))\n",
    "print(\"DGE: {:,d}\".format(r['b']))\n",
    "print(\"FPKM & DGE: {:,d} ({:.2%})\".format(r['a&b'], r['a&b']/r['a|b']))\n",
    "print(\"FPKM - DGE: {:,d} ({:.2%})\".format(r['a-b'], r['a-b']/r['a|b']))\n",
    "print(\"DGE - FPKM: {:,d} ({:.2%})\".format(r['b-a'], r['b-a']/r['a|b']))"
   ]
  },
  {
   "cell_type": "code",
   "execution_count": 12,
   "metadata": {},
   "outputs": [
    {
     "name": "stdout",
     "output_type": "stream",
     "text": [
      "Comparison: DM -> FPKM(meiotic-entry) with FPKM(meiotic-exit)\n",
      "Entry: 9,589\n",
      "Exit: 9,469\n",
      "Entry & Exit: 9,421 (97.76%)\n",
      "Entry - Exit: 168 (1.74%)\n",
      "Exit - Entry: 48 (0.50%)\n"
     ]
    }
   ],
   "source": [
    "print(\"Comparison: DM -> FPKM(meiotic-entry) with FPKM(meiotic-exit)\")\n",
    "r = compare_a_and_b(\n",
    "    df_DM_FPKM.loc[df_DM_FPKM['meiotic-entry'] == True, :].index.tolist(),\n",
    "    df_DM_FPKM.loc[df_DM_FPKM['meiotic-exit'] == True, :].index.tolist()\n",
    ")\n",
    "print(\"Entry: {:,d}\".format(r['a']))\n",
    "print(\"Exit: {:,d}\".format(r['b']))\n",
    "print(\"Entry & Exit: {:,d} ({:.2%})\".format(r['a&b'], r['a&b']/r['a|b']))\n",
    "print(\"Entry - Exit: {:,d} ({:.2%})\".format(r['a-b'], r['a-b']/r['a|b']))\n",
    "print(\"Exit - Entry: {:,d} ({:.2%})\".format(r['b-a'], r['b-a']/r['a|b']))"
   ]
  },
  {
   "cell_type": "code",
   "execution_count": null,
   "metadata": {},
   "outputs": [],
   "source": []
  }
 ],
 "metadata": {
  "kernelspec": {
   "display_name": "Python 3",
   "language": "python",
   "name": "python3"
  },
  "language_info": {
   "codemirror_mode": {
    "name": "ipython",
    "version": 3
   },
   "file_extension": ".py",
   "mimetype": "text/x-python",
   "name": "python",
   "nbconvert_exporter": "python",
   "pygments_lexer": "ipython3",
   "version": "3.7.5"
  }
 },
 "nbformat": 4,
 "nbformat_minor": 4
}
